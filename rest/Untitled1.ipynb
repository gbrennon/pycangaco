{
 "cells": [
  {
   "cell_type": "code",
   "execution_count": 4,
   "metadata": {
    "collapsed": false
   },
   "outputs": [
    {
     "name": "stdout",
     "output_type": "stream",
     "text": [
      "5501db2be13823537bdaddfc\n",
      "Atividades object\n"
     ]
    }
   ],
   "source": [
    "from api import db, create_app\n",
    "from config import DevConfig\n",
    "from api.models import Atividades, Praias\n",
    "import bson\n",
    "\n",
    "create_app(DevConfig)\n",
    "\n",
    "ativ_model = {'nome': 'Stand Up',\n",
    "         'descricao': 'Stand Up e massa'}\n",
    "\n",
    "ativ = Atividades(**ativ_model)\n",
    "ativ.save()\n",
    "\n",
    "praia_model = {'nome': 'Porto',\n",
    "               'descricao': 'Portão é massa',\n",
    "               'atividades': [ativ.id]\n",
    "               }\n",
    "\n",
    "praia = Praias(**praia_model)\n",
    "praia.save()\n",
    "print praia.id\n",
    "praia.atividades\n",
    "print praia.atividades[0]"
   ]
  },
  {
   "cell_type": "code",
   "execution_count": 3,
   "metadata": {
    "collapsed": false
   },
   "outputs": [
    {
     "name": "stdout",
     "output_type": "stream",
     "text": [
      "[1, 3, 5]\n"
     ]
    }
   ],
   "source": [
    "lista = [1,2,3,4,5]\n",
    "\n",
    "impar = lista.map(\n",
    "print impar"
   ]
  }
 ],
 "metadata": {
  "kernelspec": {
   "display_name": "Python 2",
   "language": "python",
   "name": "python2"
  },
  "language_info": {
   "codemirror_mode": {
    "name": "ipython",
    "version": 2
   },
   "file_extension": ".py",
   "mimetype": "text/x-python",
   "name": "python",
   "nbconvert_exporter": "python",
   "pygments_lexer": "ipython2",
   "version": "2.7.8"
  }
 },
 "nbformat": 4,
 "nbformat_minor": 0
}
