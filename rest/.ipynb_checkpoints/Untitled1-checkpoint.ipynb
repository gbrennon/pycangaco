{
 "cells": [
  {
   "cell_type": "code",
   "execution_count": 40,
   "metadata": {
    "collapsed": false
   },
   "outputs": [
    {
     "name": "stdout",
     "output_type": "stream",
     "text": [
      "Atividades object\n"
     ]
    }
   ],
   "source": [
    "from api import db, create_app\n",
    "from config import DevConfig\n",
    "from api.models import Atividades, Praias\n",
    "import bson\n",
    "\n",
    "create_app(DevConfig)\n",
    "\n",
    "ativ_model = {'nome': 'Stand Up',\n",
    "         'descricao': 'Stand Up e massa'}\n",
    "\n",
    "ativ = Atividades(**ativ_model)\n",
    "ativ.save()\n",
    "\n",
    "praia_model = {'nome': 'Porto',\n",
    "               'descricao': 'Portão é massa',\n",
    "               'atividades': [ativ.id]\n",
    "               }\n",
    "\n",
    "praia = Praias(**praia_model)\n",
    "praia.atividades\n",
    "print praia.atividades[0]"
   ]
  }
 ],
 "metadata": {
  "kernelspec": {
   "display_name": "Python 2",
   "language": "python",
   "name": "python2"
  },
  "language_info": {
   "codemirror_mode": {
    "name": "ipython",
    "version": 2
   },
   "file_extension": ".py",
   "mimetype": "text/x-python",
   "name": "python",
   "nbconvert_exporter": "python",
   "pygments_lexer": "ipython2",
   "version": "2.7.8"
  }
 },
 "nbformat": 4,
 "nbformat_minor": 0
}
